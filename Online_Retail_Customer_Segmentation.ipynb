{
  "nbformat": 4,
  "nbformat_minor": 0,
  "metadata": {
    "colab": {
      "provenance": [],
      "authorship_tag": "ABX9TyMoBT2B4/uXSUSPNai1TB6j",
      "include_colab_link": true
    },
    "kernelspec": {
      "name": "python3",
      "display_name": "Python 3"
    },
    "language_info": {
      "name": "python"
    }
  },
  "cells": [
    {
      "cell_type": "markdown",
      "metadata": {
        "id": "view-in-github",
        "colab_type": "text"
      },
      "source": [
        "<a href=\"https://colab.research.google.com/github/Mohamed-Harish-M-123/Capstone-Project-IV/blob/main/Online_Retail_Customer_Segmentation.ipynb\" target=\"_parent\"><img src=\"https://colab.research.google.com/assets/colab-badge.svg\" alt=\"Open In Colab\"/></a>"
      ]
    },
    {
      "cell_type": "markdown",
      "source": [
        "##**Project Name: Online Retail Customer Segmentation**\n",
        "####**Project Type:** Unsupervised ML\n",
        "####**Contribution:** Individual\n",
        "####**Name:** MOHAMED HARISH"
      ],
      "metadata": {
        "id": "chGngvrohAjV"
      }
    },
    {
      "cell_type": "markdown",
      "source": [
        "###**GitHub link:** https://github.com/Mohamed-Harish-M-123/Capstone-Project-IV"
      ],
      "metadata": {
        "id": "OOnjQDbWhtfo"
      }
    },
    {
      "cell_type": "markdown",
      "source": [
        "##**Business context:**\n",
        "####In this project, our task is to identify major customer segments on a transactional data set which contains all the transactions occuring between 01/12/2010 and 09/12/2011 for a UK based and registered non-store online retail. The company mainly sells unique all-occasion gifts. Many customer of the company are wholesalers."
      ],
      "metadata": {
        "id": "YGQ1Lsa7hyin"
      }
    },
    {
      "cell_type": "markdown",
      "source": [
        "##**Problem statement:**\n",
        "####The problem at hand is to develop an effective online retail customer segmentation model using unsupervised machine learning techniques. The goal is to identify distinct groups of customers based on their purchasing behaviors, preferences, and demographic information, in order to enable personalized marketing strategies and enhance the overall customer experience."
      ],
      "metadata": {
        "id": "Px--JLbV8iiJ"
      }
    },
    {
      "cell_type": "markdown",
      "source": [
        "###**Objective:**\n",
        "####The objective of this project is to develop a customer segmentation model that can effectively group customers based on their purchasing behavior and demographic attributes, enabling the online retailer to personalize marketing campaigns, optimize product recommendations, and improve customer satisfaction. By understanding the distinct needs and preferences of different customer segments, the retailer can tailor their strategies to enhance customer engagement, increase sales, and drive long-term customer loyalty."
      ],
      "metadata": {
        "id": "KQeU12lZ-mnz"
      }
    },
    {
      "cell_type": "markdown",
      "source": [
        "###**Importing libraries**"
      ],
      "metadata": {
        "id": "9Cyml584DsnU"
      }
    },
    {
      "cell_type": "code",
      "source": [
        "# Import required libraries for this project\n",
        "\n",
        "from google.colab import drive\n",
        "\n",
        "import numpy as np\n",
        "import pandas as pd\n",
        "import matplotlib.pyplot as plt\n",
        "import seaborn as sns\n",
        "%matplotlib inline\n"
      ],
      "metadata": {
        "id": "PAlAtoMQDqa8"
      },
      "execution_count": 1,
      "outputs": []
    },
    {
      "cell_type": "code",
      "source": [],
      "metadata": {
        "id": "LqhGRB5VEXt3"
      },
      "execution_count": null,
      "outputs": []
    }
  ]
}