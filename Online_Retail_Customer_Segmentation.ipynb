{
  "nbformat": 4,
  "nbformat_minor": 0,
  "metadata": {
    "colab": {
      "provenance": [],
      "authorship_tag": "ABX9TyO+vbWAL/2wzubeDtOHJSZa",
      "include_colab_link": true
    },
    "kernelspec": {
      "name": "python3",
      "display_name": "Python 3"
    },
    "language_info": {
      "name": "python"
    }
  },
  "cells": [
    {
      "cell_type": "markdown",
      "metadata": {
        "id": "view-in-github",
        "colab_type": "text"
      },
      "source": [
        "<a href=\"https://colab.research.google.com/github/Mohamed-Harish-M-123/Capstone-Project-IV/blob/main/Online_Retail_Customer_Segmentation.ipynb\" target=\"_parent\"><img src=\"https://colab.research.google.com/assets/colab-badge.svg\" alt=\"Open In Colab\"/></a>"
      ]
    },
    {
      "cell_type": "markdown",
      "source": [
        "##**Project Name: Online Retail Customer Segmentation**\n",
        "####**Project Type:** Unsupervised ML\n",
        "####**Contribution:** Individual\n",
        "####**Name:** MOHAMED HARISH"
      ],
      "metadata": {
        "id": "chGngvrohAjV"
      }
    },
    {
      "cell_type": "markdown",
      "source": [
        "##**GitHub link:** https://github.com/Mohamed-Harish-M-123/Capstone-Project-IV"
      ],
      "metadata": {
        "id": "OOnjQDbWhtfo"
      }
    },
    {
      "cell_type": "markdown",
      "source": [
        "##**Business context:**\n",
        "####In this project, our task is to identify major customer segments on a transactional data set which contains all the transactions occuring between 01/12/2010 and 09/12/2011 for a UK based and registered non-store online retail. The company mainly sells unique all-occasion gifts. Many customer of the company are wholesalers."
      ],
      "metadata": {
        "id": "YGQ1Lsa7hyin"
      }
    },
    {
      "cell_type": "code",
      "source": [],
      "metadata": {
        "id": "00-HJLqui8bY"
      },
      "execution_count": null,
      "outputs": []
    }
  ]
}